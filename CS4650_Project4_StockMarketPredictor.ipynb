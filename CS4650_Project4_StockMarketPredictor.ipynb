{
 "cells": [
  {
   "cell_type": "markdown",
   "id": "4f126c4a",
   "metadata": {},
   "source": [
    "CS4650\n",
    "\n",
    "Roya Salei\n",
    "\n",
    "### Goal: \n",
    "Use machine learning algorithm to predict stock prices for the next 5 days.\n",
    "\n",
    "To build the stock prediction model, I followed an online blog (https://towardsdatascience.com/predicting-future-stock-market-trends-with-python-machine-learning-2bf3f1633b3c). \n",
    "\n",
    "These are the Steps:\n",
    "1. Pick a company\n",
    "2. Get data from Yahoo finance site (for the last 5 years)\n",
    "3. Get stock indicators (RSI, MACD, and CCI) from finta library\n",
    "4. Smooth data with EWMA (exponential weighted moving average)\n",
    "5. Split data: cut the data into 40-day chunks with a 10-day overlap.\n",
    "6. Create models (RandomForestClassifier and KNeighborsClassifier)\n",
    "7. Make predictions (using 15 day sliding window)\n",
    "\n",
    "With stocks being so volatile, I don't think the prediction just based on the last 15 days is enough to base a decision. So, next week I will explore new ways.    \n"
   ]
  },
  {
   "cell_type": "code",
   "execution_count": 1,
   "id": "27181e62",
   "metadata": {
    "collapsed": true
   },
   "outputs": [
    {
     "name": "stdout",
     "output_type": "stream",
     "text": [
      "Requirement already satisfied: yfinance in c:\\users\\jooni\\appdata\\local\\programs\\python\\python36\\lib\\site-packages (0.1.70)\n",
      "Requirement already satisfied: numpy>=1.15 in c:\\users\\jooni\\appdata\\local\\programs\\python\\python36\\lib\\site-packages (from yfinance) (1.19.5)\n",
      "Requirement already satisfied: lxml>=4.5.1 in c:\\users\\jooni\\appdata\\local\\programs\\python\\python36\\lib\\site-packages (from yfinance) (4.8.0)\n",
      "Requirement already satisfied: requests>=2.26 in c:\\users\\jooni\\appdata\\local\\programs\\python\\python36\\lib\\site-packages (from yfinance) (2.26.0)\n",
      "Requirement already satisfied: pandas>=0.24.0 in c:\\users\\jooni\\appdata\\local\\programs\\python\\python36\\lib\\site-packages (from yfinance) (1.1.5)\n",
      "Requirement already satisfied: multitasking>=0.0.7 in c:\\users\\jooni\\appdata\\local\\programs\\python\\python36\\lib\\site-packages (from yfinance) (0.0.10)\n",
      "Requirement already satisfied: python-dateutil>=2.7.3 in c:\\users\\jooni\\appdata\\local\\programs\\python\\python36\\lib\\site-packages (from pandas>=0.24.0->yfinance) (2.8.2)\n",
      "Requirement already satisfied: pytz>=2017.2 in c:\\users\\jooni\\appdata\\local\\programs\\python\\python36\\lib\\site-packages (from pandas>=0.24.0->yfinance) (2021.3)\n",
      "Requirement already satisfied: urllib3<1.27,>=1.21.1 in c:\\users\\jooni\\appdata\\local\\programs\\python\\python36\\lib\\site-packages (from requests>=2.26->yfinance) (1.26.7)\n",
      "Requirement already satisfied: charset-normalizer~=2.0.0 in c:\\users\\jooni\\appdata\\local\\programs\\python\\python36\\lib\\site-packages (from requests>=2.26->yfinance) (2.0.7)\n",
      "Requirement already satisfied: idna<4,>=2.5 in c:\\users\\jooni\\appdata\\local\\programs\\python\\python36\\lib\\site-packages (from requests>=2.26->yfinance) (3.3)\n",
      "Requirement already satisfied: certifi>=2017.4.17 in c:\\users\\jooni\\appdata\\local\\programs\\python\\python36\\lib\\site-packages (from requests>=2.26->yfinance) (2021.10.8)\n",
      "Requirement already satisfied: six>=1.5 in c:\\users\\jooni\\appdata\\local\\programs\\python\\python36\\lib\\site-packages (from python-dateutil>=2.7.3->pandas>=0.24.0->yfinance) (1.15.0)\n"
     ]
    },
    {
     "name": "stderr",
     "output_type": "stream",
     "text": [
      "ERROR: Invalid requirement: '#'\n"
     ]
    },
    {
     "name": "stdout",
     "output_type": "stream",
     "text": [
      "Requirement already satisfied: pyspark in c:\\users\\jooni\\appdata\\local\\programs\\python\\python36\\lib\\site-packages (3.2.1)\n",
      "Requirement already satisfied: py4j==0.10.9.3 in c:\\users\\jooni\\appdata\\local\\programs\\python\\python36\\lib\\site-packages (from pyspark) (0.10.9.3)\n"
     ]
    }
   ],
   "source": [
    "# !pip install -U yfinance\n",
    "# # to import technical indicators\n",
    "# !pip install -U finta   \n",
    "# !pip install -U pyspark"
   ]
  },
  {
   "cell_type": "code",
   "execution_count": 38,
   "id": "0a2109e0",
   "metadata": {},
   "outputs": [],
   "source": [
    "import yfinance as yfin\n",
    "import datetime\n",
    "import pandas as pd\n",
    "import numpy as np\n",
    "from finta import TA"
   ]
  },
  {
   "cell_type": "code",
   "execution_count": 39,
   "id": "1829802f",
   "metadata": {},
   "outputs": [],
   "source": [
    "import matplotlib.pyplot as plt\n",
    "plt.style.use('ggplot')\n",
    "plt.rcParams['font.family'] = 'sans-serif' \n",
    "plt.rcParams['font.serif'] = 'Ubuntu' \n",
    "plt.rcParams['font.monospace'] = 'Ubuntu Mono' \n",
    "plt.rcParams['font.size'] = 14 \n",
    "plt.rcParams['axes.labelsize'] = 12 \n",
    "plt.rcParams['axes.labelweight'] = 'bold' \n",
    "plt.rcParams['axes.titlesize'] = 12 \n",
    "plt.rcParams['xtick.labelsize'] = 12 \n",
    "plt.rcParams['ytick.labelsize'] = 12 \n",
    "plt.rcParams['legend.fontsize'] = 12 \n",
    "plt.rcParams['figure.titlesize'] = 12 \n",
    "plt.rcParams['image.cmap'] = 'jet' \n",
    "plt.rcParams['image.interpolation'] = 'none' \n",
    "plt.rcParams['figure.figsize'] = (12, 10) \n",
    "plt.rcParams['axes.grid']=True\n",
    "plt.rcParams['lines.linewidth'] = 2 \n",
    "plt.rcParams['lines.markersize'] = 8\n",
    "colors = ['xkcd:pale orange', 'xkcd:sea blue', 'xkcd:pale red', 'xkcd:sage green', 'xkcd:terra cotta', 'xkcd:dull purple', 'xkcd:teal', 'xkcd: goldenrod', 'xkcd:cadet blue',\n",
    "'xkcd:scarlet']"
   ]
  },
  {
   "cell_type": "code",
   "execution_count": 40,
   "id": "97c70f1a",
   "metadata": {},
   "outputs": [],
   "source": [
    "from sklearn.ensemble import RandomForestClassifier, VotingClassifier \n",
    "from sklearn.neighbors import KNeighborsClassifier\n",
    "from sklearn.model_selection import train_test_split\n",
    "from sklearn.metrics import accuracy_score"
   ]
  },
  {
   "cell_type": "markdown",
   "id": "d370aaa2",
   "metadata": {},
   "source": [
    "## 1. Import the Last 5 Years of Data for 'XOM'"
   ]
  },
  {
   "cell_type": "code",
   "execution_count": 69,
   "id": "bcf749b1",
   "metadata": {},
   "outputs": [
    {
     "name": "stdout",
     "output_type": "stream",
     "text": [
      "[*********************100%***********************]  1 of 1 completed\n",
      "(12100, 6)\n",
      "                open      high       low     close  adj close   volume\n",
      "Date                                                                  \n",
      "1974-06-03  2.265625  2.351563  2.265625  2.351563   0.261493  1116800\n",
      "1974-06-04  2.351563  2.378906  2.335938  2.363281   0.262796  1833600\n",
      "1974-06-05  2.363281  2.414063  2.332031  2.371094   0.263665  1248000\n",
      "1974-06-06  2.371094  2.441406  2.355469  2.437500   0.271050  1568000\n",
      "1974-06-07  2.437500  2.468750  2.417969  2.429688   0.270181  1244800\n"
     ]
    }
   ],
   "source": [
    "# convert 5 years to days\n",
    "duration = 4 * 12 * 365 \n",
    "start = (datetime.date.today() - datetime.timedelta(duration))\n",
    "end = datetime.datetime.today()\n",
    "\n",
    "# Companies I am following 'GNRC', 'PAYC', 'WTI', 'SMCI', 'XOM'\n",
    "ticker = 'XOM'\n",
    "# set interval as 1 day\n",
    "data = yfin.download(ticker, start=start, end=end, interval='1d')\n",
    "print(data.shape)\n",
    "\n",
    "# finta library does use lower case column title\n",
    "data.rename(columns={'Open': 'open', 'High': 'high', 'Low': 'low', 'Close': 'close', 'Adj Close':'adj close', 'Volume': 'volume', }, inplace=True)\n",
    "print(data.head())"
   ]
  },
  {
   "cell_type": "markdown",
   "id": "58d97204",
   "metadata": {},
   "source": [
    "## 2. Data Processing & Feature Engineering"
   ]
  },
  {
   "cell_type": "code",
   "execution_count": 70,
   "id": "48d2c0e9",
   "metadata": {},
   "outputs": [
    {
     "data": {
      "text/plain": [
       "<AxesSubplot:xlabel='Date'>"
      ]
     },
     "execution_count": 70,
     "metadata": {},
     "output_type": "execute_result"
    },
    {
     "data": {
      "image/png": "[encoded data removed]",
      "text/plain": [
       "<Figure size 864x720 with 1 Axes>"
      ]
     },
     "metadata": {},
     "output_type": "display_data"
    }
   ],
   "source": [
    "# Smoothing the spikes with exponential weighted moving average(ewm function) an alpha of 0.7 \n",
    "data = data.ewm(alpha=0.7).mean()\n",
    "data['close'].plot()"
   ]
  },
  {
   "cell_type": "markdown",
   "id": "7bf45aad",
   "metadata": {},
   "source": [
    "### Compute Technical Indicators\n",
    "\n",
    "    1. RSI or Relative Strength Index signals about bullish and bearish price momentum. when:\n",
    "        - RSI > 70% then the asset is considered overbought \n",
    "        - RSI < 30% it is considered oversold\n",
    "    2. MACD stands for Moving average convergence divergence.\n",
    "        - If MACD of a stock crosses above its signal line it is considered time to buy. \n",
    "        - If MACD falls below its signal line, it is considered as time to sell.\n",
    "    3. CCI or Commodity Channel Index compares current price to average price over a specific time period.         "
   ]
  },
  {
   "cell_type": "code",
   "execution_count": 71,
   "id": "eee742c0",
   "metadata": {},
   "outputs": [],
   "source": [
    "# List of symbols for technical indicators\n",
    "INDICATORS = ['RSI', 'MACD', 'CCI']"
   ]
  },
  {
   "cell_type": "code",
   "execution_count": 72,
   "id": "4752fac9",
   "metadata": {},
   "outputs": [
    {
     "name": "stdout",
     "output_type": "stream",
     "text": [
      "Index(['close', '14 period RSI', 'MACD', 'SIGNAL', '20 period CCI', 'ema50',\n",
      "       'ema21', 'ema14', 'ema5', 'normVol'],\n",
      "      dtype='object')\n"
     ]
    }
   ],
   "source": [
    "def get_indicator_data(data):\n",
    "    \n",
    "    for indicator in INDICATORS:\n",
    "        ind_data = eval('TA.' + indicator + '(data)')\n",
    "        if not isinstance(ind_data, pd.DataFrame):\n",
    "            ind_data = ind_data.to_frame()\n",
    "        data = data.merge(ind_data, left_index=True, right_index=True)\n",
    "\n",
    "    # Also calculate moving averages for features\n",
    "    data['ema50'] = data['close'] / data['close'].ewm(50).mean()\n",
    "    data['ema21'] = data['close'] / data['close'].ewm(21).mean()\n",
    "    data['ema14'] = data['close'] / data['close'].ewm(14).mean()\n",
    "    data['ema5'] = data['close'] / data['close'].ewm(5).mean()\n",
    "\n",
    "    # Instead of using the actual volume value (which changes over time), we normalize it with a moving volume average\n",
    "    data['normVol'] = data['volume'] / data['volume'].ewm(5).mean()\n",
    "\n",
    "    # Remove columns that won't be used as features\n",
    "    del (data['open'])\n",
    "    del (data['high'])\n",
    "    del (data['low'])\n",
    "    del (data['volume'])\n",
    "    del (data['adj close'])\n",
    "    \n",
    "    return data\n",
    "\n",
    "data_with_indicators = get_indicator_data(data)\n",
    "print(data_with_indicators.columns)"
   ]
  },
  {
   "cell_type": "code",
   "execution_count": 73,
   "id": "a07bec96",
   "metadata": {},
   "outputs": [
    {
     "data": {
      "text/html": [
       "<div>\n",
       "<style scoped>\n",
       "    .dataframe tbody tr th:only-of-type {\n",
       "        vertical-align: middle;\n",
       "    }\n",
       "\n",
       "    .dataframe tbody tr th {\n",
       "        vertical-align: top;\n",
       "    }\n",
       "\n",
       "    .dataframe thead th {\n",
       "        text-align: right;\n",
       "    }\n",
       "</style>\n",
       "<table border=\"1\" class=\"dataframe\">\n",
       "  <thead>\n",
       "    <tr style=\"text-align: right;\">\n",
       "      <th></th>\n",
       "      <th>close</th>\n",
       "      <th>14 period RSI</th>\n",
       "      <th>MACD</th>\n",
       "      <th>SIGNAL</th>\n",
       "      <th>20 period CCI</th>\n",
       "      <th>ema50</th>\n",
       "      <th>ema21</th>\n",
       "      <th>ema14</th>\n",
       "      <th>ema5</th>\n",
       "      <th>normVol</th>\n",
       "    </tr>\n",
       "    <tr>\n",
       "      <th>Date</th>\n",
       "      <th></th>\n",
       "      <th></th>\n",
       "      <th></th>\n",
       "      <th></th>\n",
       "      <th></th>\n",
       "      <th></th>\n",
       "      <th></th>\n",
       "      <th></th>\n",
       "      <th></th>\n",
       "      <th></th>\n",
       "    </tr>\n",
       "  </thead>\n",
       "  <tbody>\n",
       "    <tr>\n",
       "      <th>1974-06-03</th>\n",
       "      <td>2.351563</td>\n",
       "      <td>NaN</td>\n",
       "      <td>0.000000</td>\n",
       "      <td>0.000000</td>\n",
       "      <td>NaN</td>\n",
       "      <td>1.000000</td>\n",
       "      <td>1.000000</td>\n",
       "      <td>1.000000</td>\n",
       "      <td>1.000000</td>\n",
       "      <td>1.000000</td>\n",
       "    </tr>\n",
       "    <tr>\n",
       "      <th>1974-06-04</th>\n",
       "      <td>2.360577</td>\n",
       "      <td>100.0</td>\n",
       "      <td>0.000202</td>\n",
       "      <td>0.000112</td>\n",
       "      <td>66.666667</td>\n",
       "      <td>1.001894</td>\n",
       "      <td>1.001868</td>\n",
       "      <td>1.001847</td>\n",
       "      <td>1.001739</td>\n",
       "      <td>1.176804</td>\n",
       "    </tr>\n",
       "    <tr>\n",
       "      <th>1974-06-05</th>\n",
       "      <td>2.368143</td>\n",
       "      <td>100.0</td>\n",
       "      <td>0.000492</td>\n",
       "      <td>0.000268</td>\n",
       "      <td>82.346151</td>\n",
       "      <td>1.003364</td>\n",
       "      <td>1.003301</td>\n",
       "      <td>1.003249</td>\n",
       "      <td>1.002986</td>\n",
       "      <td>0.977651</td>\n",
       "    </tr>\n",
       "    <tr>\n",
       "      <th>1974-06-06</th>\n",
       "      <td>2.417089</td>\n",
       "      <td>100.0</td>\n",
       "      <td>0.002379</td>\n",
       "      <td>0.000983</td>\n",
       "      <td>113.432259</td>\n",
       "      <td>1.017786</td>\n",
       "      <td>1.017490</td>\n",
       "      <td>1.017240</td>\n",
       "      <td>1.015960</td>\n",
       "      <td>1.052718</td>\n",
       "    </tr>\n",
       "    <tr>\n",
       "      <th>1974-06-07</th>\n",
       "      <td>2.425930</td>\n",
       "      <td>100.0</td>\n",
       "      <td>0.003706</td>\n",
       "      <td>0.001793</td>\n",
       "      <td>113.458852</td>\n",
       "      <td>1.016959</td>\n",
       "      <td>1.016489</td>\n",
       "      <td>1.016094</td>\n",
       "      <td>1.014116</td>\n",
       "      <td>0.943673</td>\n",
       "    </tr>\n",
       "  </tbody>\n",
       "</table>\n",
       "</div>"
      ],
      "text/plain": [
       "               close  14 period RSI      MACD    SIGNAL  20 period CCI  \\\n",
       "Date                                                                     \n",
       "1974-06-03  2.351563            NaN  0.000000  0.000000            NaN   \n",
       "1974-06-04  2.360577          100.0  0.000202  0.000112      66.666667   \n",
       "1974-06-05  2.368143          100.0  0.000492  0.000268      82.346151   \n",
       "1974-06-06  2.417089          100.0  0.002379  0.000983     113.432259   \n",
       "1974-06-07  2.425930          100.0  0.003706  0.001793     113.458852   \n",
       "\n",
       "               ema50     ema21     ema14      ema5   normVol  \n",
       "Date                                                          \n",
       "1974-06-03  1.000000  1.000000  1.000000  1.000000  1.000000  \n",
       "1974-06-04  1.001894  1.001868  1.001847  1.001739  1.176804  \n",
       "1974-06-05  1.003364  1.003301  1.003249  1.002986  0.977651  \n",
       "1974-06-06  1.017786  1.017490  1.017240  1.015960  1.052718  \n",
       "1974-06-07  1.016959  1.016489  1.016094  1.014116  0.943673  "
      ]
     },
     "execution_count": 73,
     "metadata": {},
     "output_type": "execute_result"
    }
   ],
   "source": [
    "data_with_indicators.head()"
   ]
  },
  {
   "cell_type": "code",
   "execution_count": 74,
   "id": "04cd48df",
   "metadata": {},
   "outputs": [
    {
     "data": {
      "text/html": [
       "<div>\n",
       "<style scoped>\n",
       "    .dataframe tbody tr th:only-of-type {\n",
       "        vertical-align: middle;\n",
       "    }\n",
       "\n",
       "    .dataframe tbody tr th {\n",
       "        vertical-align: top;\n",
       "    }\n",
       "\n",
       "    .dataframe thead th {\n",
       "        text-align: right;\n",
       "    }\n",
       "</style>\n",
       "<table border=\"1\" class=\"dataframe\">\n",
       "  <thead>\n",
       "    <tr style=\"text-align: right;\">\n",
       "      <th></th>\n",
       "      <th>close</th>\n",
       "      <th>14 period RSI</th>\n",
       "      <th>MACD</th>\n",
       "      <th>SIGNAL</th>\n",
       "      <th>20 period CCI</th>\n",
       "      <th>ema50</th>\n",
       "      <th>ema21</th>\n",
       "      <th>ema14</th>\n",
       "      <th>ema5</th>\n",
       "      <th>normVol</th>\n",
       "    </tr>\n",
       "    <tr>\n",
       "      <th>Date</th>\n",
       "      <th></th>\n",
       "      <th></th>\n",
       "      <th></th>\n",
       "      <th></th>\n",
       "      <th></th>\n",
       "      <th></th>\n",
       "      <th></th>\n",
       "      <th></th>\n",
       "      <th></th>\n",
       "      <th></th>\n",
       "    </tr>\n",
       "  </thead>\n",
       "  <tbody>\n",
       "    <tr>\n",
       "      <th>2022-04-29</th>\n",
       "      <td>85.549464</td>\n",
       "      <td>53.812258</td>\n",
       "      <td>0.741367</td>\n",
       "      <td>1.066607</td>\n",
       "      <td>25.089575</td>\n",
       "      <td>1.103802</td>\n",
       "      <td>1.029916</td>\n",
       "      <td>1.014595</td>\n",
       "      <td>1.002867</td>\n",
       "      <td>1.179967</td>\n",
       "    </tr>\n",
       "    <tr>\n",
       "      <th>2022-05-02</th>\n",
       "      <td>86.151842</td>\n",
       "      <td>55.705444</td>\n",
       "      <td>0.755091</td>\n",
       "      <td>1.004304</td>\n",
       "      <td>23.682960</td>\n",
       "      <td>1.109147</td>\n",
       "      <td>1.035419</td>\n",
       "      <td>1.020260</td>\n",
       "      <td>1.008260</td>\n",
       "      <td>1.185581</td>\n",
       "    </tr>\n",
       "    <tr>\n",
       "      <th>2022-05-03</th>\n",
       "      <td>87.578554</td>\n",
       "      <td>59.898053</td>\n",
       "      <td>0.871050</td>\n",
       "      <td>0.977653</td>\n",
       "      <td>71.838639</td>\n",
       "      <td>1.124703</td>\n",
       "      <td>1.050057</td>\n",
       "      <td>1.034593</td>\n",
       "      <td>1.020711</td>\n",
       "      <td>1.117170</td>\n",
       "    </tr>\n",
       "    <tr>\n",
       "      <th>2022-05-04</th>\n",
       "      <td>90.463564</td>\n",
       "      <td>66.751403</td>\n",
       "      <td>1.182118</td>\n",
       "      <td>1.018546</td>\n",
       "      <td>171.073033</td>\n",
       "      <td>1.158080</td>\n",
       "      <td>1.080490</td>\n",
       "      <td>1.063805</td>\n",
       "      <td>1.044873</td>\n",
       "      <td>1.300595</td>\n",
       "    </tr>\n",
       "    <tr>\n",
       "      <th>2022-05-05</th>\n",
       "      <td>90.356068</td>\n",
       "      <td>66.296769</td>\n",
       "      <td>1.403785</td>\n",
       "      <td>1.095594</td>\n",
       "      <td>161.154805</td>\n",
       "      <td>1.153161</td>\n",
       "      <td>1.075335</td>\n",
       "      <td>1.058129</td>\n",
       "      <td>1.036097</td>\n",
       "      <td>1.211755</td>\n",
       "    </tr>\n",
       "  </tbody>\n",
       "</table>\n",
       "</div>"
      ],
      "text/plain": [
       "                close  14 period RSI      MACD    SIGNAL  20 period CCI  \\\n",
       "Date                                                                      \n",
       "2022-04-29  85.549464      53.812258  0.741367  1.066607      25.089575   \n",
       "2022-05-02  86.151842      55.705444  0.755091  1.004304      23.682960   \n",
       "2022-05-03  87.578554      59.898053  0.871050  0.977653      71.838639   \n",
       "2022-05-04  90.463564      66.751403  1.182118  1.018546     171.073033   \n",
       "2022-05-05  90.356068      66.296769  1.403785  1.095594     161.154805   \n",
       "\n",
       "               ema50     ema21     ema14      ema5   normVol  \n",
       "Date                                                          \n",
       "2022-04-29  1.103802  1.029916  1.014595  1.002867  1.179967  \n",
       "2022-05-02  1.109147  1.035419  1.020260  1.008260  1.185581  \n",
       "2022-05-03  1.124703  1.050057  1.034593  1.020711  1.117170  \n",
       "2022-05-04  1.158080  1.080490  1.063805  1.044873  1.300595  \n",
       "2022-05-05  1.153161  1.075335  1.058129  1.036097  1.211755  "
      ]
     },
     "execution_count": 74,
     "metadata": {},
     "output_type": "execute_result"
    }
   ],
   "source": [
    "live_pred_data = data_with_indicators.iloc[-16:-11]\n",
    "live_pred_data"
   ]
  },
  {
   "cell_type": "markdown",
   "id": "171e4e10",
   "metadata": {},
   "source": [
    "### Produce Prdiction function returns 1: Buy, 0: Sell\n",
    "\n",
    "Using the future values (size of the sliding window) in our data, we can add a column 'pred' to capture the behavior of the data in regarding buying or selling. "
   ]
  },
  {
   "cell_type": "code",
   "execution_count": 62,
   "id": "d88910fe",
   "metadata": {},
   "outputs": [
    {
     "data": {
      "text/plain": [
       "(12100, 11)"
      ]
     },
     "execution_count": 62,
     "metadata": {},
     "output_type": "execute_result"
    }
   ],
   "source": [
    "def produce_prediction(data, window):\n",
    "    prediction = (data.shift(-window)['close'] >= data['close'])\n",
    "    prediction = prediction.iloc[:-window]\n",
    "    data['pred'] = prediction.astype(int)\n",
    "    \n",
    "    return data\n",
    "\n",
    "data = produce_prediction(data_with_indicators, window=15)\n",
    "data.shape"
   ]
  },
  {
   "cell_type": "markdown",
   "id": "372ad0df",
   "metadata": {},
   "source": [
    "### Clean data"
   ]
  },
  {
   "cell_type": "code",
   "execution_count": 63,
   "id": "d8a74022",
   "metadata": {},
   "outputs": [
    {
     "data": {
      "text/html": [
       "<div>\n",
       "<style scoped>\n",
       "    .dataframe tbody tr th:only-of-type {\n",
       "        vertical-align: middle;\n",
       "    }\n",
       "\n",
       "    .dataframe tbody tr th {\n",
       "        vertical-align: top;\n",
       "    }\n",
       "\n",
       "    .dataframe thead th {\n",
       "        text-align: right;\n",
       "    }\n",
       "</style>\n",
       "<table border=\"1\" class=\"dataframe\">\n",
       "  <thead>\n",
       "    <tr style=\"text-align: right;\">\n",
       "      <th></th>\n",
       "      <th>14 period RSI</th>\n",
       "      <th>MACD</th>\n",
       "      <th>SIGNAL</th>\n",
       "      <th>20 period CCI</th>\n",
       "      <th>ema50</th>\n",
       "      <th>ema21</th>\n",
       "      <th>ema15</th>\n",
       "      <th>ema5</th>\n",
       "      <th>normVol</th>\n",
       "      <th>pred</th>\n",
       "    </tr>\n",
       "    <tr>\n",
       "      <th>Date</th>\n",
       "      <th></th>\n",
       "      <th></th>\n",
       "      <th></th>\n",
       "      <th></th>\n",
       "      <th></th>\n",
       "      <th></th>\n",
       "      <th></th>\n",
       "      <th></th>\n",
       "      <th></th>\n",
       "      <th></th>\n",
       "    </tr>\n",
       "  </thead>\n",
       "  <tbody>\n",
       "    <tr>\n",
       "      <th>2022-04-25</th>\n",
       "      <td>45.930974</td>\n",
       "      <td>1.240113</td>\n",
       "      <td>1.485547</td>\n",
       "      <td>-72.911587</td>\n",
       "      <td>1.083204</td>\n",
       "      <td>1.007014</td>\n",
       "      <td>0.989534</td>\n",
       "      <td>0.971093</td>\n",
       "      <td>1.350859</td>\n",
       "      <td>1.0</td>\n",
       "    </tr>\n",
       "    <tr>\n",
       "      <th>2022-04-26</th>\n",
       "      <td>43.568202</td>\n",
       "      <td>0.898223</td>\n",
       "      <td>1.368082</td>\n",
       "      <td>-70.126266</td>\n",
       "      <td>1.072309</td>\n",
       "      <td>0.998404</td>\n",
       "      <td>0.982244</td>\n",
       "      <td>0.968737</td>\n",
       "      <td>1.174286</td>\n",
       "      <td>1.0</td>\n",
       "    </tr>\n",
       "    <tr>\n",
       "      <th>2022-04-27</th>\n",
       "      <td>49.169659</td>\n",
       "      <td>0.734152</td>\n",
       "      <td>1.241296</td>\n",
       "      <td>-47.449864</td>\n",
       "      <td>1.088926</td>\n",
       "      <td>1.014959</td>\n",
       "      <td>0.999293</td>\n",
       "      <td>0.987889</td>\n",
       "      <td>1.191629</td>\n",
       "      <td>1.0</td>\n",
       "    </tr>\n",
       "    <tr>\n",
       "      <th>2022-04-28</th>\n",
       "      <td>56.409196</td>\n",
       "      <td>0.774400</td>\n",
       "      <td>1.147917</td>\n",
       "      <td>19.437955</td>\n",
       "      <td>1.115132</td>\n",
       "      <td>1.039809</td>\n",
       "      <td>1.023949</td>\n",
       "      <td>1.011638</td>\n",
       "      <td>1.187708</td>\n",
       "      <td>1.0</td>\n",
       "    </tr>\n",
       "    <tr>\n",
       "      <th>2022-04-29</th>\n",
       "      <td>53.812258</td>\n",
       "      <td>0.741367</td>\n",
       "      <td>1.066607</td>\n",
       "      <td>25.089575</td>\n",
       "      <td>1.103802</td>\n",
       "      <td>1.029916</td>\n",
       "      <td>1.014595</td>\n",
       "      <td>1.002867</td>\n",
       "      <td>1.179967</td>\n",
       "      <td>1.0</td>\n",
       "    </tr>\n",
       "  </tbody>\n",
       "</table>\n",
       "</div>"
      ],
      "text/plain": [
       "            14 period RSI      MACD    SIGNAL  20 period CCI     ema50  \\\n",
       "Date                                                                     \n",
       "2022-04-25      45.930974  1.240113  1.485547     -72.911587  1.083204   \n",
       "2022-04-26      43.568202  0.898223  1.368082     -70.126266  1.072309   \n",
       "2022-04-27      49.169659  0.734152  1.241296     -47.449864  1.088926   \n",
       "2022-04-28      56.409196  0.774400  1.147917      19.437955  1.115132   \n",
       "2022-04-29      53.812258  0.741367  1.066607      25.089575  1.103802   \n",
       "\n",
       "               ema21     ema15      ema5   normVol  pred  \n",
       "Date                                                      \n",
       "2022-04-25  1.007014  0.989534  0.971093  1.350859   1.0  \n",
       "2022-04-26  0.998404  0.982244  0.968737  1.174286   1.0  \n",
       "2022-04-27  1.014959  0.999293  0.987889  1.191629   1.0  \n",
       "2022-04-28  1.039809  1.023949  1.011638  1.187708   1.0  \n",
       "2022-04-29  1.029916  1.014595  1.002867  1.179967   1.0  "
      ]
     },
     "execution_count": 63,
     "metadata": {},
     "output_type": "execute_result"
    }
   ],
   "source": [
    "del (data['close'])\n",
    "data = data.dropna() \n",
    "data.tail()"
   ]
  },
  {
   "attachments": {
    "image.png": {
     "image/png": "[encoded data removed]"
    }
   },
   "cell_type": "markdown",
   "id": "fdfaf9db",
   "metadata": {},
   "source": [
    "## 3. Model Creation\n",
    "Due to the nature of time-series’, if we randomize our train-test set, we could encounter a look-ahead bias which is not good for predicting the stock market.\n",
    "The goal here is to have a sliding window for training and test sets. As shown in the following figure\n",
    "![image.png](attachment:image.png)\n",
    "Source of image: https://towardsdatascience.com/predicting-future-stock-market-trends-with-python-machine-learning-2bf3f1633b3c"
   ]
  },
  {
   "cell_type": "code",
   "execution_count": 50,
   "id": "c1e18535",
   "metadata": {},
   "outputs": [
    {
     "name": "stdout",
     "output_type": "stream",
     "text": [
      "RF Accuracy = 0.6044951590594747\n",
      "KNN Accuracy = 0.5621023513139694\n",
      "ENSEMBLE Accuracy = 0.5951590594744123\n"
     ]
    }
   ],
   "source": [
    "def cross_Validation(data):\n",
    "\n",
    "    # Split data into equal partitions of size len_train\n",
    "    \n",
    "    num_train = 10 # Increment of how many starting points (len(data) / num_train  =  number of train-test sets)\n",
    "    len_train = 40 # Length of each train-test set\n",
    "    \n",
    "    # Lists to store the results from each model\n",
    "    rf_RESULTS = []\n",
    "    knn_RESULTS = []\n",
    "    gbt_RESULTS = []\n",
    "    ensemble_RESULTS = []\n",
    "    \n",
    "    i = 0\n",
    "    \n",
    "    # Models which will be used\n",
    "    rf = RandomForestClassifier()\n",
    "    knn = KNeighborsClassifier()\n",
    "    \n",
    "    # Create a tuple list of our models\n",
    "    #Ensemble methods help to improve the robustness/generalizability of the model. \n",
    "    estimators=[('knn', knn), ('rf', rf)]\n",
    "    # Voting is one of the simplest ways of combining the predictions from multiple machine learning algorithms.\n",
    "    ensemble = VotingClassifier(estimators, voting='soft')\n",
    "    \n",
    "    while True:\n",
    "        \n",
    "        # Partition the data into chunks of size len_train every num_train days\n",
    "        df = data.iloc[i * num_train : (i * num_train) + len_train]\n",
    "        i += 1\n",
    "        \n",
    "        if len(df) < 40:\n",
    "            break\n",
    "        \n",
    "        y = df['pred']\n",
    "        features = [x for x in df.columns if x not in ['pred']]\n",
    "        X = df[features]\n",
    "\n",
    "        X_train, X_test, y_train, y_test = train_test_split(X, y, train_size= 7 * len(X) // 10,shuffle=False)\n",
    "        \n",
    "        # fit models\n",
    "        rf.fit(X_train, y_train)\n",
    "        knn.fit(X_train, y_train)\n",
    "        \n",
    "        ensemble.fit(X_train, y_train)\n",
    "        \n",
    "        # get predictions\n",
    "        rf_prediction = rf.predict(X_test)\n",
    "        knn_prediction = knn.predict(X_test)\n",
    "        ensemble_prediction = ensemble.predict(X_test)\n",
    "        \n",
    "        # determine accuracy and append to results\n",
    "        rf_accuracy = accuracy_score(y_test.values, rf_prediction)\n",
    "        knn_accuracy = accuracy_score(y_test.values, knn_prediction)\n",
    "        ensemble_accuracy = accuracy_score(y_test.values, ensemble_prediction)\n",
    "\n",
    "        rf_RESULTS.append(rf_accuracy)\n",
    "        knn_RESULTS.append(knn_accuracy)\n",
    "        ensemble_RESULTS.append(ensemble_accuracy)\n",
    "                \n",
    "    print('RF Accuracy = ' + str( sum(rf_RESULTS) / len(rf_RESULTS)))\n",
    "    print('KNN Accuracy = ' + str( sum(knn_RESULTS) / len(knn_RESULTS)))\n",
    "    print('ENSEMBLE Accuracy = ' + str( sum(ensemble_RESULTS) / len(ensemble_RESULTS)))\n",
    "    \n",
    "    return ensemble\n",
    "    \n",
    "ensemble_model = cross_Validation(data)"
   ]
  },
  {
   "cell_type": "markdown",
   "id": "3abf1461",
   "metadata": {},
   "source": [
    "## 4. Verification of Results"
   ]
  },
  {
   "cell_type": "code",
   "execution_count": 64,
   "id": "8130f98d",
   "metadata": {},
   "outputs": [],
   "source": [
    "del(live_pred_data['close'])"
   ]
  },
  {
   "cell_type": "code",
   "execution_count": 65,
   "id": "e748e735",
   "metadata": {},
   "outputs": [
    {
     "name": "stdout",
     "output_type": "stream",
     "text": [
      "            14 period RSI      MACD    SIGNAL  20 period CCI     ema50  \\\n",
      "Date                                                                     \n",
      "2022-04-29      53.812258  0.741367  1.066607      25.089575  1.103802   \n",
      "2022-05-02      55.705444  0.755091  1.004304      23.682960  1.109147   \n",
      "2022-05-03      59.898053  0.871050  0.977653      71.838639  1.124703   \n",
      "2022-05-04      66.751403  1.182118  1.018546     171.073033  1.158080   \n",
      "2022-05-05      66.296769  1.403785  1.095594     161.154805  1.153161   \n",
      "\n",
      "               ema21     ema15      ema5   normVol  \n",
      "Date                                                \n",
      "2022-04-29  1.029916  1.014595  1.002867  1.179967  \n",
      "2022-05-02  1.035419  1.020260  1.008260  1.185581  \n",
      "2022-05-03  1.050057  1.034593  1.020711  1.117170  \n",
      "2022-05-04  1.080490  1.063805  1.044873  1.300595  \n",
      "2022-05-05  1.075335  1.058129  1.036097  1.211755  \n"
     ]
    }
   ],
   "source": [
    "print(live_pred_data)"
   ]
  },
  {
   "cell_type": "code",
   "execution_count": 66,
   "id": "efe6f174",
   "metadata": {},
   "outputs": [],
   "source": [
    "prediction = ensemble_model.predict(live_pred_data)"
   ]
  },
  {
   "cell_type": "code",
   "execution_count": 67,
   "id": "31a118e9",
   "metadata": {},
   "outputs": [
    {
     "name": "stdout",
     "output_type": "stream",
     "text": [
      "Prediction result for XOM\n",
      "--------------------------\n",
      "Buy on Sat May 14, 2022\n",
      "Buy on Tue May 17, 2022\n",
      "Buy on Wed May 18, 2022\n",
      "Sell on Thu May 19, 2022\n",
      "Buy on Fri May 20, 2022\n",
      "--------------------------\n"
     ]
    }
   ],
   "source": [
    "import datetime \n",
    "import time\n",
    "\n",
    "print(\"Prediction result for {}\".format(ticker))\n",
    "print(\"--------------------------\")\n",
    "for i, k in zip(live_pred_data.index, prediction):\n",
    "    d = i + datetime.timedelta(15)\n",
    "    dt = d.strftime('%a %b %d, %Y')\n",
    "    if(k == 1):\n",
    "        print (\"Buy on {}\".format(dt))\n",
    "    else:\n",
    "        print (\"Sell on {}\".format(dt))\n",
    "print(\"--------------------------\")"
   ]
  },
  {
   "cell_type": "code",
   "execution_count": null,
   "id": "7852afcd",
   "metadata": {},
   "outputs": [],
   "source": []
  },
  {
   "cell_type": "code",
   "execution_count": null,
   "id": "a8507892",
   "metadata": {},
   "outputs": [],
   "source": []
  }
 ],
 "metadata": {
  "kernelspec": {
   "display_name": "Python 3",
   "language": "python",
   "name": "python3"
  },
  "language_info": {
   "codemirror_mode": {
    "name": "ipython",
    "version": 3
   },
   "file_extension": ".py",
   "mimetype": "text/x-python",
   "name": "python",
   "nbconvert_exporter": "python",
   "pygments_lexer": "ipython3",
   "version": "3.6.6"
  }
 },
 "nbformat": 4,
 "nbformat_minor": 5
}
